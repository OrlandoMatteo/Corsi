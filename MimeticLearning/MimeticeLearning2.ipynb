{
  "cells": [
    {
      "cell_type": "code",
      "metadata": {
        "id": "tM7GnYGjoaLI",
        "colab_type": "code",
        "colab": {}
      },
      "source": [
        "# ONE MAX v0.2\n",
        "\n",
        "NUM_BITS = 1000\n",
        "POP_SIZE = 100\n",
        "OFFSPRING_SIZE  = 10"
      ],
      "execution_count": 199,
      "outputs": []
    },
    {
      "cell_type": "code",
      "metadata": {
        "id": "JEu5POpBomdG",
        "colab_type": "code",
        "colab": {}
      },
      "source": [
        "import random\n",
        "from collections import namedtuple"
      ],
      "execution_count": 200,
      "outputs": []
    },
    {
      "cell_type": "code",
      "metadata": {
        "id": "VzCCdlHFwxXf",
        "colab_type": "code",
        "colab": {}
      },
      "source": [
        "Individual = namedtuple('Individual', ['genome', 'fitness'])"
      ],
      "execution_count": 201,
      "outputs": []
    },
    {
      "cell_type": "code",
      "metadata": {
        "id": "o0jx1mSApKef",
        "colab_type": "code",
        "colab": {}
      },
      "source": [
        "def fitness(ind):\n",
        "    global N_EVALUATION\n",
        "    N_EVALUATION += 1\n",
        "    return sum(ind)\n",
        "\n",
        "def select(pop):\n",
        "    # tournament  selction\n",
        "    ind1, ind2 = random.choices(range(len(pop)), k=2)\n",
        "    if pop[ind1].fitness > pop[ind2].fitness:\n",
        "        return ind1\n",
        "    else:\n",
        "        return ind2\n",
        "def removeClones(pop):\n",
        "    i=0\n",
        "    j=1\n",
        "    while i<len(pop):\n",
        "        while j<len(pop):\n",
        "            if i!=j:\n",
        "                if sum([(pop[i].genome[k]+pop[j].genome[k])%2 for k in range(NUM_BITS)])==0:\n",
        "                    pop.pop(j)\n",
        "                    #print('Clone deleted')\n",
        "            j+=1\n",
        "        i+=1\n"
      ],
      "execution_count": 202,
      "outputs": []
    },
    {
      "cell_type": "code",
      "metadata": {
        "id": "pBmDkk-hqcEH",
        "colab_type": "code",
        "colab": {
          "base_uri": "https://localhost:8080/",
          "height": 35
        },
        "outputId": "4b6484a7-6fff-4743-adbd-53b8e9d8cec3",
        "tags": []
      },
      "source": [
        "#No crossover\n",
        "\n",
        "N_EVALUATION = 0\n",
        "population = list()\n",
        "for _ in range(POP_SIZE):\n",
        "    g = random.choices([0, 1], k=NUM_BITS)  \n",
        "    population.append(Individual(g, fitness(g)))\n",
        "\n",
        "while N_EVALUATION<1000:\n",
        "    offspring = []\n",
        "    for _ in range(OFFSPRING_SIZE):\n",
        "        p = select(population)\n",
        "        new_ind = population[p].genome[:]\n",
        "        bit =  random.randint(0, len(new_ind)-1)\n",
        "        if new_ind[bit] == 0:\n",
        "            new_ind[bit] = 1\n",
        "        else:\n",
        "            new_ind[bit] = 0\n",
        "        offspring.append(Individual(new_ind, fitness(new_ind)))\n",
        "\n",
        "    population += offspring\n",
        "    population = sorted(population, key=lambda i: i.fitness, reverse=True)\n",
        "    population = population[:POP_SIZE]\n",
        "print(f\"Max fitness after {N_EVALUATION} evaluations: {population[0].fitness}\")"
      ],
      "execution_count": 203,
      "outputs": [
        {
          "output_type": "stream",
          "name": "stdout",
          "text": "Max fitness after 1000 evaluations: 548\n"
        }
      ]
    },
    {
      "cell_type": "code",
      "execution_count": 204,
      "metadata": {
        "tags": []
      },
      "outputs": [
        {
          "output_type": "stream",
          "name": "stdout",
          "text": "Max fitness after 10000 evaluations: 871\nLast fitness 871\n"
        }
      ],
      "source": [
        "#with crossover\n",
        "maxFitness=0\n",
        "N_EVALUATION = 0\n",
        "population = list()\n",
        "for _ in range(POP_SIZE):\n",
        "    g = random.choices([0, 1], k=NUM_BITS)  \n",
        "    population.append(Individual(g, fitness(g)))\n",
        "\n",
        "while N_EVALUATION<10000:\n",
        "    offspring = []\n",
        "    for _ in range(OFFSPRING_SIZE):\n",
        "        if random.choice(['mut','xover']) =='mut':\n",
        "            p = select(population)\n",
        "            new_ind = population[p].genome[:]\n",
        "            bit =  random.randint(0, len(new_ind)-1)\n",
        "            if new_ind[bit] == 0:\n",
        "                new_ind[bit] = 1\n",
        "            else:\n",
        "                new_ind[bit] = 0\n",
        "            offspring.append(Individual(new_ind, fitness(new_ind)))\n",
        "        else:\n",
        "            p1 = population[select(population)].genome[:]\n",
        "            p2 = population[select(population)].genome[:]\n",
        "            new_ind=[random.choice([p1[i],p2[i]]) for i in range(len(p1))]\n",
        "            offspring.append(Individual(new_ind, fitness(new_ind)))\n",
        "\n",
        "    population += offspring\n",
        "    population = sorted(population, key=lambda i: i.fitness, reverse=True)\n",
        "    population = population[:POP_SIZE]\n",
        "    maxFitness=max([maxFitness,population[0].fitness])\n",
        "print(f\"Max fitness after {N_EVALUATION} evaluations: {maxFitness}\")\n",
        "print(f\"Last fitness {population[0].fitness}\")"
      ]
    },
    {
      "cell_type": "code",
      "execution_count": 205,
      "metadata": {
        "tags": []
      },
      "outputs": [
        {
          "output_type": "stream",
          "name": "stdout",
          "text": "Max fitness after 1000 evaluations: 651\n"
        }
      ],
      "source": [
        "#with clone removal\n",
        "\n",
        "N_EVALUATION = 0\n",
        "population = list()\n",
        "for _ in range(POP_SIZE):\n",
        "    g = random.choices([0, 1], k=NUM_BITS)  \n",
        "    population.append(Individual(g, fitness(g)))\n",
        "\n",
        "while N_EVALUATION<1000:\n",
        "    offspring = []\n",
        "    for _ in range(OFFSPRING_SIZE):\n",
        "        if random.choice(['mut','xover']) =='mut':\n",
        "            p = select(population)\n",
        "            new_ind = population[p].genome[:]\n",
        "            bit =  random.randint(0, len(new_ind)-1)\n",
        "            if new_ind[bit] == 0:\n",
        "                new_ind[bit] = 1\n",
        "            else:\n",
        "                new_ind[bit] = 0\n",
        "            offspring.append(Individual(new_ind, fitness(new_ind)))\n",
        "        else:\n",
        "            p1 = population[select(population)].genome[:]\n",
        "            p2 = population[select(population)].genome[:]\n",
        "            new_ind=[random.choice([p1[i],p2[i]]) for i in range(len(p1))]\n",
        "            offspring.append(Individual(new_ind, fitness(new_ind)))\n",
        "\n",
        "    population += offspring\n",
        "    removeClones(population)\n",
        "    population = sorted(population, key=lambda i: i.fitness, reverse=True)\n",
        "    population = population[:POP_SIZE]\n",
        "print(f\"Max fitness after {N_EVALUATION} evaluations: {population[0].fitness}\")"
      ]
    },
    {
      "cell_type": "code",
      "execution_count": null,
      "metadata": {},
      "outputs": [],
      "source": []
    }
  ],
  "metadata": {
    "colab": {
      "name": "MimeticeLearning2.ipynb",
      "provenance": [],
      "collapsed_sections": []
    },
    "kernelspec": {
      "name": "python3",
      "display_name": "Python 3"
    }
  },
  "nbformat": 4,
  "nbformat_minor": 0
}
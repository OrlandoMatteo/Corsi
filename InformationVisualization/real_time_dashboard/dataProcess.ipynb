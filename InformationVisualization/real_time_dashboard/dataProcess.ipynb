{
 "nbformat": 4,
 "nbformat_minor": 2,
 "metadata": {
  "language_info": {
   "name": "python",
   "codemirror_mode": {
    "name": "ipython",
    "version": 3
   },
   "version": "3.6.9"
  },
  "orig_nbformat": 2,
  "file_extension": ".py",
  "mimetype": "text/x-python",
  "name": "python",
  "npconvert_exporter": "python",
  "pygments_lexer": "ipython3",
  "version": 3
 },
 "cells": [
  {
   "cell_type": "code",
   "execution_count": 108,
   "metadata": {},
   "outputs": [],
   "source": [
    "import scipy.io  as sio\n",
    "import os\n",
    "import numpy as np"
   ]
  },
  {
   "cell_type": "code",
   "execution_count": 109,
   "metadata": {},
   "outputs": [
    {
     "name": "stdout",
     "output_type": "stream",
     "text": "/home/matteo/Corsi/InformationVisualization/real_time_dashboard\n<class 'numpy.ndarray'>\n"
    }
   ],
   "source": [
    "print(os.getcwd())\n",
    "#os.chdir('real_time_dashboard/')\n",
    "values=sio.loadmat('values.mat')['values']\n",
    "\n",
    "print(type(values))\n"
   ]
  },
  {
   "cell_type": "code",
   "execution_count": 110,
   "metadata": {},
   "outputs": [
    {
     "name": "stdout",
     "output_type": "stream",
     "text": "1440\n[]\n[[2.23723515e+02 2.25328373e+02 2.25280086e+02 2.91250288e+00\n  9.94383580e-01 9.25819420e-01 3.56027280e-01 2.13631786e-01\n  3.25537872e-01]]\n"
    }
   ],
   "source": [
    "print(f\"{len(values)}\")\n",
    "print(values[1][0][48][0])\n",
    "print(values[1][0][0][0])\n",
    "data=[]\n",
    "for i in range(1440):\n",
    "    data.append([])\n",
    "    for j in range(148):\n",
    "        if values[i][0][j][0].size!=0:\n",
    "            data[i].append( values[i][0][j][0][0])\n",
    "\n",
    "\n",
    "#        if values[i][0][j][0].size==0:\n",
    "#            np.delete(values[i][0][j],values[i][0][j])\n"
   ]
  },
  {
   "cell_type": "code",
   "execution_count": 111,
   "metadata": {},
   "outputs": [
    {
     "name": "stdout",
     "output_type": "stream",
     "text": "140\n[2.23845833e+02 2.24648950e+02 2.25440020e+02 2.93886637e+00\n 1.07190529e+00 1.03120365e+00 3.57033993e-01 2.17560221e-01\n 4.64081260e-01]\n"
    }
   ],
   "source": [
    "print(len(data[0]))\n",
    "print(data[0][0])"
   ]
  },
  {
   "cell_type": "code",
   "execution_count": 112,
   "metadata": {},
   "outputs": [],
   "source": [
    "import json\n",
    "tree=json.load(open('jsonDatatree.json'))"
   ]
  },
  {
   "cell_type": "code",
   "execution_count": 113,
   "metadata": {},
   "outputs": [
    {
     "name": "stdout",
     "output_type": "stream",
     "text": "140\n"
    }
   ],
   "source": [
    "firstLayer=tree['children']\n",
    "#print(firstLayer)\n",
    "nOfChild=sum([len(x[\"children\"]) for x in firstLayer])\n",
    "stations=[]\n",
    "for lv in firstLayer:\n",
    "    for sub in lv['children']:\n",
    "        stations.append({\"id\":sub[\"name\"]})\n",
    "print(len(stations))\n"
   ]
  },
  {
   "cell_type": "code",
   "execution_count": 130,
   "metadata": {},
   "outputs": [],
   "source": [
    "dataframe=[]\n",
    "for time in range(1440):\n",
    "    nThValues={\"ID\":i,\"values\":{}}\n",
    "    for i_s in range(len(stations)):\n",
    "        s=stations[i_s]['id']\n",
    "        array=data[time][i_s]\n",
    "        v=sum(array[:3])/3\n",
    "        i=sum(array[3:6])/3\n",
    "        value={\"V\":v,\"I\":i}\n",
    "        nThValues[\"values\"][s]=value\n",
    "    dataframe.append(nThValues)\n",
    "        "
   ]
  },
  {
   "cell_type": "code",
   "execution_count": 125,
   "metadata": {},
   "outputs": [
    {
     "name": "stdout",
     "output_type": "stream",
     "text": "{'V': 224.52007570300358, 'I': 1.0821945284751269}\n"
    }
   ],
   "source": [
    "\n",
    "print(dataframe[18]['values']['LV_1333'])"
   ]
  },
  {
   "cell_type": "code",
   "execution_count": 131,
   "metadata": {},
   "outputs": [],
   "source": [
    "\n",
    "json.dump(dataframe,open('dataframe.json','w'))"
   ]
  },
  {
   "cell_type": "code",
   "execution_count": null,
   "metadata": {},
   "outputs": [],
   "source": []
  }
 ]
}
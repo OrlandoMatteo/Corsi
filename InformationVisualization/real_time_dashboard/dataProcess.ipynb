{
 "nbformat": 4,
 "nbformat_minor": 2,
 "metadata": {
  "language_info": {
   "name": "python",
   "codemirror_mode": {
    "name": "ipython",
    "version": 3
   },
   "version": "3.6.9-final"
  },
  "orig_nbformat": 2,
  "file_extension": ".py",
  "mimetype": "text/x-python",
  "name": "python",
  "npconvert_exporter": "python",
  "pygments_lexer": "ipython3",
  "version": 3,
  "kernelspec": {
   "name": "python36964bit55a3899c403a4f5ca94105c67e798f99",
   "display_name": "Python 3.6.9 64-bit"
  }
 },
 "cells": [
  {
   "source": [
    "import scipy.io  as sio\n",
    "import os\n",
    "import numpy as np"
   ],
   "cell_type": "code",
   "outputs": [],
   "metadata": {},
   "execution_count": 1
  },
  {
   "source": [
    "print(os.getcwd())\n",
    "#os.chdir('real_time_dashboard/')\n",
    "values=sio.loadmat('values.mat')['values']\n",
    "\n",
    "print(type(values))\n",
    ""
   ],
   "cell_type": "code",
   "outputs": [
    {
     "output_type": "stream",
     "name": "stdout",
     "text": "/home/matteo/Corsi/InformationVisualization/real_time_dashboard\n<class 'numpy.ndarray'>\n"
    }
   ],
   "metadata": {},
   "execution_count": 2
  },
  {
   "source": [
    "print(f\"{len(values)}\")\n",
    "print(values[1][0][48][0])\n",
    "print(values[1][0][0][0])\n",
    "data=[]\n",
    "for i in range(1440):\n",
    "    data.append([])\n",
    "    for j in range(148):\n",
    "        if values[i][0][j][0].size!=0:\n",
    "            data[i].append( values[i][0][j][0][0])\n",
    "\n",
    "\n",
    "#        if values[i][0][j][0].size==0:\n",
    "#            np.delete(values[i][0][j],values[i][0][j])\n",
    ""
   ],
   "cell_type": "code",
   "outputs": [
    {
     "output_type": "stream",
     "name": "stdout",
     "text": "1440\n[]\n[[2.23723515e+02 2.25328373e+02 2.25280086e+02 2.91250288e+00\n  9.94383580e-01 9.25819420e-01 3.56027280e-01 2.13631786e-01\n  3.25537872e-01]]\n"
    }
   ],
   "metadata": {},
   "execution_count": 3
  },
  {
   "source": [
    "print(len(data[0]))\n",
    "print(data[0][0])"
   ],
   "cell_type": "code",
   "outputs": [
    {
     "output_type": "stream",
     "name": "stdout",
     "text": "140\n[2.23845833e+02 2.24648950e+02 2.25440020e+02 2.93886637e+00\n 1.07190529e+00 1.03120365e+00 3.57033993e-01 2.17560221e-01\n 4.64081260e-01]\n"
    }
   ],
   "metadata": {},
   "execution_count": 4
  },
  {
   "source": [
    "import json\n",
    "tree=json.load(open('jsonDatatree.json'))"
   ],
   "cell_type": "code",
   "outputs": [],
   "metadata": {},
   "execution_count": 5
  },
  {
   "source": [
    "firstLayer=tree['children']\n",
    "#print(firstLayer)\n",
    "nOfChild=sum([len(x[\"children\"]) for x in firstLayer])\n",
    "stations=[]\n",
    "for lv in firstLayer:\n",
    "    for sub in lv['children']:\n",
    "        stations.append({\"id\":sub[\"name\"]})\n",
    "print(len(stations))\n",
    ""
   ],
   "cell_type": "code",
   "outputs": [
    {
     "output_type": "stream",
     "name": "stdout",
     "text": "140\n"
    }
   ],
   "metadata": {},
   "execution_count": 6
  },
  {
   "source": [
    "dataframe=[]\n",
    "for time in range(1440):\n",
    "    nThValues={\"ID\":i,\"values\":{}}\n",
    "    for i_s in range(len(stations)):\n",
    "        s=stations[i_s]['id']\n",
    "        array=data[time][i_s]\n",
    "        v=sum(array[:3])/3\n",
    "        i=sum(array[3:6])/3\n",
    "        value={\"V\":v,\"I\":i}\n",
    "        nThValues[\"values\"][s]=value\n",
    "    dataframe.append(nThValues)\n",
    "        "
   ],
   "cell_type": "code",
   "outputs": [],
   "metadata": {},
   "execution_count": 7
  },
  {
   "source": [
    "\n",
    "print(dataframe[18]['values']['LV_1333'])"
   ],
   "cell_type": "code",
   "outputs": [
    {
     "output_type": "stream",
     "name": "stdout",
     "text": "{'V': 224.52007570300358, 'I': 1.0821945284751269}\n"
    }
   ],
   "metadata": {},
   "execution_count": 8
  },
  {
   "source": [
    "\n",
    "json.dump(dataframe,open('dataframe.json','w'))"
   ],
   "cell_type": "code",
   "outputs": [],
   "metadata": {},
   "execution_count": 9
  },
  {
   "source": [
    "subsID=[]\n",
    "for lv in firstLayer:\n",
    "    for sub in lv['children']:\n",
    "        subsID.append(sub['name'])\n",
    "print (subsID)\n",
    "dataset={}\n",
    "for s in subsID:\n",
    "    dataset[s]=[]\n",
    "for time in range(1440):\n",
    "    for i_s in range(len(subsID)):\n",
    "        array=data[time][i_s]\n",
    "        v=sum(array[:3])/3\n",
    "        i=sum(array[3:6])/3\n",
    "        dataset[subsID[i_s]].append({\"V\":v,\"I\":i})\n",
    "\n",
    ""
   ],
   "cell_type": "code",
   "outputs": [
    {
     "output_type": "stream",
     "name": "stdout",
     "text": "['LV_911', 'LV_912', 'LV_913', 'LV_921', 'LV_922', 'LV_923', 'LV_931', 'LV_932', 'LV_933', 'LV_941', 'LV_942', 'LV_943', 'LV_951', 'LV_952', 'LV_953', 'LV_1311', 'LV_1312', 'LV_1313', 'LV_1321', 'LV_1322', 'LV_1323', 'LV_1324', 'LV_1331', 'LV_1332', 'LV_1333', 'LV_1341', 'LV_1342', 'LV_1343', 'LV_1344', 'LV_1351', 'LV_1352', 'LV_1353', 'LV_611', 'LV_612', 'LV_613', 'LV_621', 'LV_622', 'LV_623', 'LV_624', 'LV_631', 'LV_632', 'LV_633', 'LV_634', 'LV_641', 'LV_642', 'LV_643', 'LV_644', 'LV_1111', 'LV_1112', 'LV_1113', 'LV_1121', 'LV_1122', 'LV_1123', 'LV_1131', 'LV_1132', 'LV_1133', 'LV_1141', 'LV_1142', 'LV_1143', 'LV_1151', 'LV_1152', 'LV_1153', 'LV_411', 'LV_412', 'LV_413', 'LV_421', 'LV_422', 'LV_423', 'LV_424', 'LV_431', 'LV_432', 'LV_433', 'LV_441', 'LV_442', 'LV_451', 'LV_452', 'LV_453', 'LV_311', 'LV_312', 'LV_313', 'LV_321', 'LV_322', 'LV_323', 'LV_331', 'LV_332', 'LV_333', 'LV_341', 'LV_342', 'LV_343', 'LV_351', 'LV_352', 'LV_353', 'LV_211', 'LV_212', 'LV_213', 'LV_221', 'LV_222', 'LV_223', 'LV_231', 'LV_232', 'LV_233', 'LV_241', 'LV_242', 'LV_243', 'LV_244', 'LV_251', 'LV_252', 'LV_253', 'LV_1011', 'LV_1012', 'LV_1021', 'LV_1022', 'LV_1023', 'LV_1031', 'LV_1032', 'LV_1033', 'LV_1041', 'LV_1042', 'LV_1051', 'LV_1052', 'LV_1053', 'LV_1061', 'LV_1062', 'LV_1063', 'LV_1211', 'LV_1212', 'LV_1213', 'LV_1214', 'LV_1221', 'LV_1222', 'LV_1223', 'LV_1231', 'LV_1232', 'LV_1233', 'LV_1241', 'LV_1242', 'LV_1243', 'LV_1244', 'LV_1251', 'LV_1252']\n"
    }
   ],
   "metadata": {},
   "execution_count": 10
  },
  {
   "source": [
    "print (dataset['LV_911']['V'][:8])"
   ],
   "cell_type": "code",
   "outputs": [
    {
     "output_type": "error",
     "ename": "TypeError",
     "evalue": "list indices must be integers or slices, not str",
     "traceback": [
      "\u001b[0;31m---------------------------------------------------------------------------\u001b[0m",
      "\u001b[0;31mTypeError\u001b[0m                                 Traceback (most recent call last)",
      "\u001b[0;32m<ipython-input-11-d9c35a6d8c57>\u001b[0m in \u001b[0;36m<module>\u001b[0;34m\u001b[0m\n\u001b[0;32m----> 1\u001b[0;31m \u001b[0mprint\u001b[0m \u001b[0;34m(\u001b[0m\u001b[0mdataset\u001b[0m\u001b[0;34m[\u001b[0m\u001b[0;34m'LV_911'\u001b[0m\u001b[0;34m]\u001b[0m\u001b[0;34m[\u001b[0m\u001b[0;34m'V'\u001b[0m\u001b[0;34m]\u001b[0m\u001b[0;34m[\u001b[0m\u001b[0;34m:\u001b[0m\u001b[0;36m8\u001b[0m\u001b[0;34m]\u001b[0m\u001b[0;34m)\u001b[0m\u001b[0;34m\u001b[0m\u001b[0;34m\u001b[0m\u001b[0m\n\u001b[0m",
      "\u001b[0;31mTypeError\u001b[0m: list indices must be integers or slices, not str"
     ]
    }
   ],
   "metadata": {},
   "execution_count": 11
  },
  {
   "source": [
    "json.dump(dataset,open('dataset.json','w'))"
   ],
   "cell_type": "code",
   "outputs": [],
   "metadata": {},
   "execution_count": 13
  },
  {
   "cell_type": "code",
   "execution_count": null,
   "metadata": {},
   "outputs": [],
   "source": []
  }
 ]
}